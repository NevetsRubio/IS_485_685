{
 "cells": [
  {
   "cell_type": "markdown",
   "metadata": {},
   "source": [
    "# Projects\n",
    "\n",
    "1. Credit Card Debt Repayment Calculator\n",
    "1. Function Auto Loan Calculator\n",
    "1. Mortgage Calculator\n",
    "1. Pull financial data from Yahoo API and do EDA\n",
    "    1. From year 2017 until current what this the highest the S&P500 has been? What is max volume.\n",
    "    1. Graph S&P500 Index. Add title and labels.\n",
    "    1. Calculate percent changes day to day.\n",
    "    1. Find greatest absolute percentage move in a single day.\n",
    "    \n",
    "1. Create a mock Database by creating 4 separate CSV's from Yahoo Finance.\n",
    "    1. Read in 4 years from 2015-2016, 2016-2017, 2017-2018, 2018-current.\n",
    "    1. Concatenate and save in a db file using SQLite.\n",
    "    1. Write a query that pulls only monday, wednesday, fridays."
   ]
  },
  {
   "cell_type": "markdown",
   "metadata": {},
   "source": [
    "### Make Dataframe & Split Data & Apply Lambda Function"
   ]
  },
  {
   "cell_type": "code",
   "execution_count": 40,
   "metadata": {},
   "outputs": [
    {
     "name": "stdout",
     "output_type": "stream",
     "text": [
      "Input:    col1  col2\n",
      "0     1     4\n",
      "1     2     5\n",
      "2     3     6\n",
      "3     4     7\n",
      "4     5     8\n",
      "Output: 0     7\n",
      "1     8\n",
      "2     9\n",
      "3    10\n",
      "4    11\n",
      "Name: col3, dtype: int64\n",
      "   col1  col2\n",
      "0     1    16\n",
      "1     4    25\n",
      "2     9    36\n",
      "3    16    49\n",
      "4    25    64\n",
      "   col1  col2\n",
      "0     1    64\n",
      "1     2   125\n",
      "2     3   216\n",
      "3     4   343\n",
      "4     5   512\n",
      "65\n",
      "126\n",
      "217\n",
      "344\n",
      "513\n"
     ]
    },
    {
     "data": {
      "text/plain": [
       "[65, 126, 217, 344, 513]"
      ]
     },
     "execution_count": 40,
     "metadata": {},
     "output_type": "execute_result"
    }
   ],
   "source": [
    "import pandas as pd\n",
    "df = pd.DataFrame({'col1':[1,2,3,4,5],'col2':[4,5,6,7,8],'col3':[7,8,9,10,11]})\n",
    "X = pd.DataFrame(df.iloc[:,:-1])\n",
    "#X = df.iloc[:,:-1]\n",
    "y = df.iloc[:,-1]\n",
    "print('Input: {}'.format(X))\n",
    "print('Output: {}'.format(y))\n",
    "\n",
    "\n",
    "# Square entire dataframe using a lambda function & name is square_df\n",
    "square_df = X.apply(lambda x: x**2)\n",
    "print(square_df)\n",
    "\n",
    "# Cube second column using a lambda function\n",
    "\n",
    "# First way to do it (shorter & cleaner)\n",
    "#X.loc[:,'col2'] = X.loc[:,'col2'].apply(lambda x: x**3)\n",
    "X['col2'] = X['col2'].apply(lambda x: x**3)\n",
    "print(X)\n",
    "\n",
    "# # Second way to do it (allows you access to values if needed outside of column)\n",
    "# cube = X['col2'].apply(lambda x: x**3)\n",
    "# cube_series = pd.Series(cube)\n",
    "# X['col2'] = cube_series.values\n",
    "# print(X)\n",
    "\n",
    "# Print elements in column 2 of X.\n",
    "for i in X['col2']:\n",
    "    print(i+1)\n",
    "    \n",
    "# Print elements using list comprehension\n",
    "new_list = [i+1 for i in X['col2']]\n",
    "new_list"
   ]
  },
  {
   "cell_type": "markdown",
   "metadata": {},
   "source": [
    "### Debt Calculator"
   ]
  },
  {
   "cell_type": "code",
   "execution_count": 1,
   "metadata": {},
   "outputs": [
    {
     "name": "stdout",
     "output_type": "stream",
     "text": [
      "How much debt you got? 5000\n",
      "What's your interest rate? 8\n",
      "How many years you gonna sit in this hole? 4\n",
      "You owe 1802.44 extra dollars because you wont pay it off\n"
     ]
    }
   ],
   "source": [
    "principal = int(input('How much debt you got? '))\n",
    "interest = int(input(\"What's your interest rate? \"))\n",
    "years = int(input(\"How many years you gonna sit in this hole? \"))\n",
    "\n",
    "def amountofdebt(principal, interest, years):\n",
    "    \n",
    "    total_owed = principal*(1 + interest/100)**years\n",
    "    monetary_interest = total_owed - principal\n",
    "    \n",
    "    print('You owe {:.2f} extra dollars because you wont pay it off'.format(monetary_interest,2))\n",
    "    \n",
    "    return\n",
    "\n",
    "amountofdebt(principal, interest, years)"
   ]
  },
  {
   "cell_type": "markdown",
   "metadata": {},
   "source": [
    "### Yahoo Finance API"
   ]
  },
  {
   "cell_type": "code",
   "execution_count": 2,
   "metadata": {},
   "outputs": [
    {
     "data": {
      "text/html": [
       "<div>\n",
       "<style scoped>\n",
       "    .dataframe tbody tr th:only-of-type {\n",
       "        vertical-align: middle;\n",
       "    }\n",
       "\n",
       "    .dataframe tbody tr th {\n",
       "        vertical-align: top;\n",
       "    }\n",
       "\n",
       "    .dataframe thead th {\n",
       "        text-align: right;\n",
       "    }\n",
       "</style>\n",
       "<table border=\"1\" class=\"dataframe\">\n",
       "  <thead>\n",
       "    <tr style=\"text-align: right;\">\n",
       "      <th></th>\n",
       "      <th>Open</th>\n",
       "      <th>High</th>\n",
       "      <th>Low</th>\n",
       "      <th>Close</th>\n",
       "      <th>Adj Close</th>\n",
       "      <th>Volume</th>\n",
       "    </tr>\n",
       "    <tr>\n",
       "      <th>Date</th>\n",
       "      <th></th>\n",
       "      <th></th>\n",
       "      <th></th>\n",
       "      <th></th>\n",
       "      <th></th>\n",
       "      <th></th>\n",
       "    </tr>\n",
       "  </thead>\n",
       "  <tbody>\n",
       "    <tr>\n",
       "      <th>2018-07-26</th>\n",
       "      <td>2835.489990</td>\n",
       "      <td>2845.570068</td>\n",
       "      <td>2835.260010</td>\n",
       "      <td>2837.439941</td>\n",
       "      <td>2837.439941</td>\n",
       "      <td>3653330000</td>\n",
       "    </tr>\n",
       "    <tr>\n",
       "      <th>2018-07-27</th>\n",
       "      <td>2842.350098</td>\n",
       "      <td>2843.169922</td>\n",
       "      <td>2808.340088</td>\n",
       "      <td>2818.820068</td>\n",
       "      <td>2818.820068</td>\n",
       "      <td>3415710000</td>\n",
       "    </tr>\n",
       "    <tr>\n",
       "      <th>2018-07-30</th>\n",
       "      <td>2819.000000</td>\n",
       "      <td>2821.739990</td>\n",
       "      <td>2798.110107</td>\n",
       "      <td>2802.600098</td>\n",
       "      <td>2802.600098</td>\n",
       "      <td>3245770000</td>\n",
       "    </tr>\n",
       "    <tr>\n",
       "      <th>2018-07-31</th>\n",
       "      <td>2809.729980</td>\n",
       "      <td>2824.459961</td>\n",
       "      <td>2808.060059</td>\n",
       "      <td>2816.290039</td>\n",
       "      <td>2816.290039</td>\n",
       "      <td>3892100000</td>\n",
       "    </tr>\n",
       "    <tr>\n",
       "      <th>2018-08-01</th>\n",
       "      <td>2821.169922</td>\n",
       "      <td>2825.830078</td>\n",
       "      <td>2805.850098</td>\n",
       "      <td>2813.360107</td>\n",
       "      <td>2813.360107</td>\n",
       "      <td>3496990000</td>\n",
       "    </tr>\n",
       "  </tbody>\n",
       "</table>\n",
       "</div>"
      ],
      "text/plain": [
       "                   Open         High          Low        Close    Adj Close  \\\n",
       "Date                                                                          \n",
       "2018-07-26  2835.489990  2845.570068  2835.260010  2837.439941  2837.439941   \n",
       "2018-07-27  2842.350098  2843.169922  2808.340088  2818.820068  2818.820068   \n",
       "2018-07-30  2819.000000  2821.739990  2798.110107  2802.600098  2802.600098   \n",
       "2018-07-31  2809.729980  2824.459961  2808.060059  2816.290039  2816.290039   \n",
       "2018-08-01  2821.169922  2825.830078  2805.850098  2813.360107  2813.360107   \n",
       "\n",
       "                Volume  \n",
       "Date                    \n",
       "2018-07-26  3653330000  \n",
       "2018-07-27  3415710000  \n",
       "2018-07-30  3245770000  \n",
       "2018-07-31  3892100000  \n",
       "2018-08-01  3496990000  "
      ]
     },
     "execution_count": 2,
     "metadata": {},
     "output_type": "execute_result"
    }
   ],
   "source": [
    "import pandas as pd\n",
    "import numpy as np\n",
    "import datetime\n",
    "from pandas_datareader.data import DataReader\n",
    "\n",
    "def read_data(ticker, data_source, start_date, end_date):\n",
    "    \n",
    "    df = DataReader(ticker, data_source, start_date, end_date)\n",
    "    \n",
    "    return df\n",
    "\n",
    "\n",
    "end_date = datetime.datetime.today().strftime('%Y-%m-%d')\n",
    "ticker = '^GSPC'\n",
    "\n",
    "SPX = read_data(ticker, 'yahoo', '2017-01-01', end_date)\n",
    "SPX.tail()"
   ]
  },
  {
   "cell_type": "markdown",
   "metadata": {},
   "source": [
    "### Quant Hedge Fund Interview Question"
   ]
  },
  {
   "cell_type": "markdown",
   "metadata": {},
   "source": [
    "#### Count Votes & select winner\n",
    "* Count votes from a list of people\n",
    "* Make it generalizable so that if any people tie in votes the member with the lowest priority in the alphabet wins. Example: If both John & Paul tie for the highest votes, then Paul wins because his name is alphabetically last."
   ]
  },
  {
   "cell_type": "code",
   "execution_count": null,
   "metadata": {
    "collapsed": true
   },
   "outputs": [],
   "source": [
    "from collections import Counter\n",
    "\n",
    "# Example List\n",
    "votes = ['Alex', 'Michael', 'Harry', 'Dave', 'Michael', 'Victor', 'Harry', 'Alex', 'Mary', 'Mary']\n",
    "\n",
    "def electionWinner(votes):\n",
    "    \n",
    "    count_dict = Counter(votes)\n",
    "    \n",
    "    for key,value in count_dict.items():\n",
    "        x = sorted(count_dict.values(), reverse=True)[0]\n",
    "    \n",
    "    alpha = []\n",
    "        \n",
    "    for key,value in count_dict.items():\n",
    "        if value == x:\n",
    "            alpha.append(key)\n",
    "            \n",
    "    return sorted(alpha)[-1]\n",
    "\n",
    "electionWinner(votes)"
   ]
  },
  {
   "cell_type": "markdown",
   "metadata": {},
   "source": [
    "### Get Requests (Additional Hedge Fund Question)"
   ]
  },
  {
   "cell_type": "code",
   "execution_count": 17,
   "metadata": {},
   "outputs": [
    {
     "name": "stdout",
     "output_type": "stream",
     "text": [
      "Italian Spiderman\n",
      "Superman, Spiderman or Batman\n",
      "Spiderman\n",
      "Spiderman\n",
      "Fighting, Flying and Driving: The Stunts of Spiderman 3\n",
      "Spiderman and Grandma\n",
      "The Amazing Spiderman T4 Premiere Special\n",
      "Amazing Spiderman Syndrome\n",
      "Hollywood's Master Storytellers: Spiderman Live\n",
      "Spiderman 5\n",
      "END PAGE 1\n",
      "They Call Me Spiderman\n",
      "The Death of Spiderman\n",
      "Spiderman in Cannes\n",
      "END PAGE 2\n"
     ]
    }
   ],
   "source": [
    "#import urllib.request\n",
    "import requests\n",
    "\n",
    "def getMovieTitles(substr,pageNumber):\n",
    "    \n",
    "    r = requests.get(\"https://jsonmock.hackerrank.com/api/movies/search/?Title={}&page={}\".format(substr,pageNumber))\n",
    "    json_dict = r.json()\n",
    "    data = json_dict['data']\n",
    "    \n",
    "    titles = []\n",
    "    \n",
    "    for i in data:\n",
    "        print(i['Title'])\n",
    "        \n",
    "    return 'END PAGE {}'.format(pageNumber)\n",
    "\n",
    "print(getMovieTitles('Spiderman',1))\n",
    "print(getMovieTitles('Spiderman',2))"
   ]
  },
  {
   "cell_type": "markdown",
   "metadata": {},
   "source": [
    "### Dice Roll(s)\n",
    "* Calculate the Standard Deviation of n dice rolls.\n",
    "* Question came from Quora."
   ]
  },
  {
   "cell_type": "code",
   "execution_count": null,
   "metadata": {
    "collapsed": true
   },
   "outputs": [],
   "source": [
    "def std_for_dice(number_of_dice_rolls):\n",
    "    \n",
    "    x = 0\n",
    "    ints_from_rolls = []\n",
    "    \n",
    "    \n",
    "    while x < number_of_dice_rolls:\n",
    "        \n",
    "        k = np.random.randint(1,7)\n",
    "        ints_from_rolls.append(k)\n",
    "        x+=1\n",
    "        \n",
    "    std_of_all_rolls = np.std(ints_from_rolls)\n",
    "\n",
    "    return print('List: {}, Std of Rolls: {}'.format(ints_from_rolls, std_of_all_rolls))"
   ]
  },
  {
   "cell_type": "markdown",
   "metadata": {
    "collapsed": true
   },
   "source": [
    "### Check if an array has it's own Data\n",
    "* If OWNDATA = False, then arrays occupy the same space in memory"
   ]
  },
  {
   "cell_type": "code",
   "execution_count": 12,
   "metadata": {},
   "outputs": [
    {
     "name": "stdout",
     "output_type": "stream",
     "text": [
      "  C_CONTIGUOUS : True\n",
      "  F_CONTIGUOUS : True\n",
      "  OWNDATA : True\n",
      "  WRITEABLE : True\n",
      "  ALIGNED : True\n",
      "  WRITEBACKIFCOPY : False\n",
      "  UPDATEIFCOPY : False\n",
      "[[0 1 2 3 4 5 6 7 8 9]\n",
      " [0 1 2 3 4 5 6 7 8 9]]\n",
      "[0 1 2 3 4 5 6 7 8 9 0 1 2 3 4 5 6 7 8 9]\n"
     ]
    }
   ],
   "source": [
    "import numpy as np\n",
    "x = np.array(range(10))\n",
    "y = np.array(range(10))\n",
    "z = np.vstack([x,y])\n",
    "k = np.concatenate([x,y])\n",
    "print(x.flags)\n",
    "# print(y)\n",
    "# print(y.flags)\n",
    "print(z)\n",
    "print(k)"
   ]
  },
  {
   "cell_type": "markdown",
   "metadata": {},
   "source": [
    "### Reading & Querying a Database into a dataframe in Python"
   ]
  },
  {
   "cell_type": "code",
   "execution_count": 34,
   "metadata": {},
   "outputs": [
    {
     "name": "stdout",
     "output_type": "stream",
     "text": [
      "[('Q3_2016',), ('Q4_2016',), ('Q1_2017',), ('OptTotal',)]\n"
     ]
    }
   ],
   "source": [
    "# Putting Queries into Pandas Dataframes\n",
    "import sqlite3\n",
    "import pandas as pd\n",
    "import numpy as np\n",
    "import time\n",
    "import datetime\n",
    "\n",
    "#Connecting to local DB\n",
    "conn = sqlite3.connect('/Users/kevin/Dropbox/Fat Tail Trading & Research/Data/iVolatility.db')\n",
    "cursor = conn.cursor()\n",
    "cursor.execute(\"SELECT name FROM sqlite_master WHERE type='table';\")\n",
    "print(cursor.fetchall())\n",
    "\n",
    "#Queries on tables in DB\n",
    "Q3_2016_df = pd.read_sql_query(\"\"\"SELECT * FROM Q3_2016 WHERE Symbol='SPX' AND Trade_time < '10:00:00'\"\"\", conn)\n",
    "conn.commit()\n",
    "conn.close()\n",
    "#Takes roughly 40-60 seconds, be patient\n",
    "Q3_2016_df.head()"
   ]
  }
 ],
 "metadata": {
  "kernelspec": {
   "display_name": "Python 3",
   "language": "python",
   "name": "python3"
  },
  "language_info": {
   "codemirror_mode": {
    "name": "ipython",
    "version": 3
   },
   "file_extension": ".py",
   "mimetype": "text/x-python",
   "name": "python",
   "nbconvert_exporter": "python",
   "pygments_lexer": "ipython3",
   "version": "3.6.4"
  }
 },
 "nbformat": 4,
 "nbformat_minor": 2
}
