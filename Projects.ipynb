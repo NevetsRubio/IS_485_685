{
 "cells": [
  {
   "cell_type": "markdown",
   "metadata": {},
   "source": [
    "# Projects\n",
    "\n",
    "1. Credit Card Debt Repayment Calculator\n",
    "1. Function Auto Loan Calculator\n",
    "1. Mortgage Calculator\n",
    "1. Pull financial data from Yahoo API and do EDA\n",
    "    1. From year 2017 until current what this the highest the S&P500 has been? What is max volume.\n",
    "    1. Graph S&P500 Index. Add title and labels.\n",
    "    1. Calculate percent changes day to day.\n",
    "    1. Find greatest absolute percentage move in a single day.\n",
    "    \n",
    "1. Create a mock Database by creating 4 separate CSV's from Yahoo Finance.\n",
    "    1. Read in 4 years from 2015-2016, 2016-2017, 2017-2018, 2018-current.\n",
    "    1. Concatenate and save in a db file using SQLite.\n",
    "    1. Write a query that pulls only monday, wednesday, fridays."
   ]
  }
 ],
 "metadata": {
  "kernelspec": {
   "display_name": "Python 3",
   "language": "python",
   "name": "python3"
  },
  "language_info": {
   "codemirror_mode": {
    "name": "ipython",
    "version": 3
   },
   "file_extension": ".py",
   "mimetype": "text/x-python",
   "name": "python",
   "nbconvert_exporter": "python",
   "pygments_lexer": "ipython3",
   "version": "3.6.4"
  }
 },
 "nbformat": 4,
 "nbformat_minor": 2
}
