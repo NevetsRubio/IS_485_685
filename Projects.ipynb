{
 "cells": [
  {
   "cell_type": "markdown",
   "metadata": {},
   "source": [
    "# Projects\n",
    "\n",
    "1. Credit Card Debt Repayment Calculator\n",
    "1. Function Auto Loan Calculator\n",
    "1. Mortgage Calculator\n",
    "1. Pull financial data from Yahoo API and do EDA\n",
    "    1. From year 2017 until current what this the highest the S&P500 has been? What is max volume.\n",
    "    1. Graph S&P500 Index. Add title and labels.\n",
    "    1. Calculate percent changes day to day.\n",
    "    1. Find greatest absolute percentage move in a single day.\n",
    "    \n",
    "1. Create a mock Database by creating 4 separate CSV's from Yahoo Finance.\n",
    "    1. Read in 4 years from 2015-2016, 2016-2017, 2017-2018, 2018-current.\n",
    "    1. Concatenate and save in a db file using SQLite.\n",
    "    1. Write a query that pulls only monday, wednesday, fridays."
   ]
  },
  {
   "cell_type": "markdown",
   "metadata": {},
   "source": [
    "### Debt Calculator"
   ]
  },
  {
   "cell_type": "code",
   "execution_count": 1,
   "metadata": {},
   "outputs": [
    {
     "name": "stdout",
     "output_type": "stream",
     "text": [
      "How much debt you got? 5000\n",
      "What's your interest rate? 8\n",
      "How many years you gonna sit in this hole? 4\n",
      "You owe 1802.44 extra dollars because you wont pay it off\n"
     ]
    }
   ],
   "source": [
    "principal = int(input('How much debt you got? '))\n",
    "interest = int(input(\"What's your interest rate? \"))\n",
    "years = int(input(\"How many years you gonna sit in this hole? \"))\n",
    "\n",
    "def amountofdebt(principal, interest, years):\n",
    "    \n",
    "    total_owed = principal*(1 + interest/100)**years\n",
    "    monetary_interest = total_owed - principal\n",
    "    \n",
    "    print('You owe {:.2f} extra dollars because you wont pay it off'.format(monetary_interest,2))\n",
    "    \n",
    "    return\n",
    "\n",
    "amountofdebt(principal, interest, years)"
   ]
  }
 ],
 "metadata": {
  "kernelspec": {
   "display_name": "Python 3",
   "language": "python",
   "name": "python3"
  },
  "language_info": {
   "codemirror_mode": {
    "name": "ipython",
    "version": 3
   },
   "file_extension": ".py",
   "mimetype": "text/x-python",
   "name": "python",
   "nbconvert_exporter": "python",
   "pygments_lexer": "ipython3",
   "version": "3.6.4"
  }
 },
 "nbformat": 4,
 "nbformat_minor": 2
}
