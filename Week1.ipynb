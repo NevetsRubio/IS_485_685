{
 "cells": [
  {
   "cell_type": "markdown",
   "metadata": {},
   "source": [
    "# Week 1 - Introduction\n",
    "Repository for class: https://github.com/kevinkurek/IS_485_685.\n",
    "\n",
    "The first week of class will address the three foundational tools we'll use every week.\n",
    "1. General Course Overview\n",
    "1. Jupyter Notebook\n",
    "1. Git/Github integration\n",
    "1. DataCamp"
   ]
  },
  {
   "cell_type": "markdown",
   "metadata": {},
   "source": [
    "### What this course is.\n",
    "* This course is designed to be an introduction to data science specifically using Python. Data Science can be done in many languages but the two most popular are Python and R. R has many great packages and functionality just as Python does. Python was chosen for a couple reasons, but most importantly I felt it was the more versatile of the two languages. This means I felt you'd be more likely to need it in your lifetime because you're more likely to see/use it. Python is a lead for Data Science but is used for major software engineering as well as Web Development and many more topics. The second reason was that I know Python better than R so when I get a random Python question in class I'm more likely to know the answer. This course will emphasize finance since that's my domain but will give examples to other areas and how the ideas transcend.\n",
    "\n",
    "### What this course is not.\n",
    "* This course is not an advanced course in any specific area. The major topics of data science will be touched upon. Data Science is an extremely broad field so any individual topic could be it's on PhD dissertation. My objective is to give you enough tools and insight that if you ran into a data set that needed analysis you'd be comfortable enough to go through the data science workflow and extrapolate insights that would be helpful.<br/>\n",
    "\n",
    "** If you'd like to take more advanced mathematics and computer science courses I've compiled a few at UNR that are highly beneficial.\n",
    "##### Mathematics:\n",
    "1. Calculus 1-3 (MATH 181, 182, and 283)\n",
    "1. Linear Algebra (MATH 330)\n",
    "1. Probability Theory (STAT 461/661)\n",
    "\n",
    "##### Software Engineering/Machine Learning/Deep Learning:\n",
    "1. Computer Science I & II (CS 135 & 202)\n",
    "1. Deep Learning (CS 491) -need to have taken CS undergrad courses\n",
    "1. Statistical Computing (STAT 645) PRE-REQS: STAT 461/661\n",
    "1. Statistical Learning (STAT 760) PRE-REQS: MATH 330, STAT 645\n",
    "\n",
    "##### Finance Classes:\n",
    "1. Financial Derivatives (FIN 410/610)\n",
    "1. Investment and Portfolio Management (BADM 743)"
   ]
  },
  {
   "cell_type": "markdown",
   "metadata": {},
   "source": [
    "## What is Jupyter Notebook?\n",
    "\n",
    "Jupyter Notebook is a multi-dimensional IDE(integrated development environment). It's what you're reading on now and will construct your code in. It abstracts out a lot of details in normal IDE's and allows you to run individual pieces of code rather than an entire script at once (as would happen in PyCharm for example).\n",
    "\n",
    "For installation follow http://jupyter.org/install.<br/>For a video reference follow https://www.youtube.com/watch?v=HW29067qVWk."
   ]
  },
  {
   "cell_type": "markdown",
   "metadata": {},
   "source": [
    "### How to get to Jupyter once installed\n",
    "1. Open Terminal\n",
    "1. Navigate to Github Folder (Example: cd /Users/kevin/Dropbox/Github/IS_485_685)\n",
    "1. Directly in Terminal type \"jupyter notebook\" without quotes."
   ]
  },
  {
   "cell_type": "markdown",
   "metadata": {},
   "source": [
    "## What is Git?\n",
    "\n",
    "Git is the most common piece of version control in software development. It allows you to basically mess with different branches of code and files simulatenously while being able to \"push\" it to the internet and specifically Github. You will design a Github profile in order to house your projects and submit your code.\n",
    "\n",
    "For installation follow https://git-scm.com/downloads.<br/>For a video reference follow https://www.youtube.com/watch?v=cEGIFZDyszA."
   ]
  },
  {
   "cell_type": "markdown",
   "metadata": {},
   "source": [
    "### Most Important Git Commands:\n",
    "1. pwd (present working directory)\n",
    "1. cd (change directory\n",
    "1. git clone ~/PathToYourRepository\n",
    "1. git status (checks status of your current repo)\n",
    "1. git add --all (adds all the files you've changed)\n",
    "1. git commit -m \"Message of your choice\" (commits message to git)\n",
    "1. git push origin master (pushes your changes to Github)."
   ]
  },
  {
   "cell_type": "markdown",
   "metadata": {},
   "source": [
    "## What is DataCamp?\n",
    "\n",
    "DataCamp is an online resource for Data Science classes. There are many places to learn data science but I personally felt they abstracted away a lot of the mess and allow you to start coding real data science right away. I believe this is the best way to teach data science since it initially gets students (and myself) excited about the abilities of data science and new techniques and tools. I believe if you make someone excited about a topic they will then go out of their way to learn the \"boring\" topics or more rigorous mathematics to supplement their knowledge. This is the exact path I took in Data Science.<br/>\n",
    "This is going to act like MyMathLab.com but for Data Science.\n",
    "\n",
    "Create an account at https://www.datacamp.com."
   ]
  },
  {
   "cell_type": "markdown",
   "metadata": {},
   "source": [
    "# Homework\n",
    "\n",
    "1. Make sure Jupyter, Git/Github, and DataCamp are all set up.\n",
    "1. Make a Git Respository of this class in your Github. Make a Readme File that says \"Homework 1 Done\" in a Jupyter Notebook."
   ]
  },
  {
   "cell_type": "markdown",
   "metadata": {},
   "source": [
    "### Example:"
   ]
  },
  {
   "cell_type": "markdown",
   "metadata": {},
   "source": [
    "# Homework 1 Done.\n",
    "\n",
    "That is legitimately all I need to see as it will require you to have Github and Jupyter fully functional."
   ]
  }
 ],
 "metadata": {
  "kernelspec": {
   "display_name": "Python 3",
   "language": "python",
   "name": "python3"
  },
  "language_info": {
   "codemirror_mode": {
    "name": "ipython",
    "version": 3
   },
   "file_extension": ".py",
   "mimetype": "text/x-python",
   "name": "python",
   "nbconvert_exporter": "python",
   "pygments_lexer": "ipython3",
   "version": "3.6.4"
  }
 },
 "nbformat": 4,
 "nbformat_minor": 2
}
